{
 "cells": [
  {
   "cell_type": "markdown",
   "metadata": {
    "collapsed": true
   },
   "source": [
    "### Introduction\n",
    "\n"
   ]
  },
  {
   "cell_type": "markdown",
   "metadata": {},
   "source": [
    "In the 21st century mostly every single process we do is automated. Starting from ordering our favorite food or requesting a taxi and ending with some advanced processes such as executing million of millions transactions by simply pressing one button. And it all thanks to a major progress of Information Technologies. \n",
    "\n",
    "Nowadays if we need to know where we can find some lovely dinner places in foreign country, what we need to do is simply open maps and by analyzing our geolocation the advanced machine can predict our preferences and provide us with most rated nearby restaurants in no time. But not that it is user-friendly and really reliable, it is, also, can be extremely precious for commercial use. For example if we would get a project to build a new venue (office building, department store, grocery store, restaurant and so on.) in a city we have never been to by using some machine learning algorithms we can cluster our whole city dataset and then visualize it on map to predict what would be the most efficient spot for a new start up. That is exactly what we will be doing today, imagine, that we got a business project to build a new department store in City of London the most advanced Borough in London and we need to find the best neighbourhood to proceed with. Please do take your seat ant let me take you through this fascinating journey where will be exploring and clustering different neighbourhoods in London to find which one best suits our needs."
   ]
  },
  {
   "cell_type": "markdown",
   "metadata": {},
   "source": [
    "### Data"
   ]
  },
  {
   "cell_type": "markdown",
   "metadata": {},
   "source": [
    "First thing first in order for us to start analyze neighbourhoods in City of London we need to find dataset which one would include boroughs and neighbourhoods names and coordinates, because we will need them later on for data visualization. We will be using dataset provided by doogal.co.uk which is mostly ideal for our project. Then we will just need to clean our data a little bit, drop all unsufficient columns and rename district to a borough and ward to a neighbourhood, so our whole data would look more appealing and user-friendly.\n",
    "\n",
    "Afterwards we will be calling foursquare api to find top 10 venues in every neighborhood so we can cluster afterwards and decide which one will be the most suitable for our project."
   ]
  }
 ],
 "metadata": {
  "kernelspec": {
   "display_name": "Python 3.6",
   "language": "python",
   "name": "python3"
  },
  "language_info": {
   "codemirror_mode": {
    "name": "ipython",
    "version": 3
   },
   "file_extension": ".py",
   "mimetype": "text/x-python",
   "name": "python",
   "nbconvert_exporter": "python",
   "pygments_lexer": "ipython3",
   "version": "3.6.9"
  }
 },
 "nbformat": 4,
 "nbformat_minor": 1
}
